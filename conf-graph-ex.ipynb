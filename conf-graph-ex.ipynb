{
 "cells": [
  {
   "cell_type": "code",
   "execution_count": 1,
   "metadata": {
    "collapsed": false
   },
   "outputs": [
    {
     "name": "stdout",
     "output_type": "stream",
     "text": [
      "Requirement already satisfied (use --upgrade to upgrade): neo4j-driver in /usr/local/lib/python3.5/site-packages\r\n"
     ]
    }
   ],
   "source": [
    "# install neo4j-driver\n",
    "!pip install neo4j-driver\n"
   ]
  },
  {
   "cell_type": "code",
   "execution_count": 2,
   "metadata": {
    "collapsed": true
   },
   "outputs": [],
   "source": [
    "from neo4j.v1 import GraphDatabase, basic_auth\n",
    "import requests\n",
    "import json"
   ]
  },
  {
   "cell_type": "markdown",
   "metadata": {},
   "source": [
    "# Loading the OSCON Graph\n",
    "\n",
    "The OSCON schedule data is available for download [here](http://conferences.oreilly.com/oscon/open-source-us/public/content/report/schedule_feed). We can model this data as a graph using the data model below. This Python script shows how we can import the data into Neo4j.\n",
    "\n",
    "![](https://raw.githubusercontent.com/neo4j-examples/conf-graph/master/img/conf-graph.jpg)"
   ]
  },
  {
   "cell_type": "code",
   "execution_count": 3,
   "metadata": {
    "collapsed": true
   },
   "outputs": [],
   "source": [
    "OSCON_FEED_URL = \"http://conferences.oreilly.com/oscon/open-source-us/public/content/report/schedule_feed\""
   ]
  },
  {
   "cell_type": "code",
   "execution_count": 4,
   "metadata": {
    "collapsed": true
   },
   "outputs": [],
   "source": [
    "r = requests.get(OSCON_FEED_URL)\n",
    "d = r.json()"
   ]
  },
  {
   "cell_type": "code",
   "execution_count": 5,
   "metadata": {
    "collapsed": false
   },
   "outputs": [
    {
     "data": {
      "text/plain": [
       "dict_keys(['speakers', 'events', 'venues', 'conferences'])"
      ]
     },
     "execution_count": 5,
     "metadata": {},
     "output_type": "execute_result"
    }
   ],
   "source": [
    "d['Schedule'].keys()"
   ]
  },
  {
   "cell_type": "code",
   "execution_count": 6,
   "metadata": {
    "collapsed": true
   },
   "outputs": [],
   "source": [
    "INSERT_EVENTS_QUERY = '''\n",
    "WITH {events} AS events\n",
    "UNWIND events AS event\n",
    "MERGE (t:Talk {serial: event.serial})\n",
    "  ON CREATE SET t.name = event.name,\n",
    "    t.type = event.event_type,\n",
    "    t.time_start = event.time_start,\n",
    "    t.time_stop = event.time_stop,\n",
    "    t.description = event.description,\n",
    "    t.url = event.website_url,\n",
    "    t.image = event.large_img_url,\n",
    "    t.youtube_url = event.youtube_url\n",
    "\n",
    "MERGE (r:Room {serial: event.venue_serial})\n",
    "CREATE UNIQUE (t)-[:IN]->(r)\n",
    "\n",
    "FOREACH (speaker IN event.speakers |\n",
    "  MERGE (s:Speaker {serial: speaker})\n",
    "  CREATE UNIQUE (s)-[:PRESENTS]->(t)\n",
    ")\n",
    "\n",
    "FOREACH (cat in event.categories |\n",
    "  MERGE (top:Topic {name: cat})\n",
    "  CREATE UNIQUE (t)-[:ABOUT]->(top)\n",
    "  \n",
    "  MERGE (trac:Track {name: cat})\n",
    "  CREATE UNIQUE (t)-[:PART_OF]->(trac)\n",
    ") \n",
    "'''\n",
    "\n",
    "INSERT_SPEAKERS_QUERY = '''\n",
    "WITH {speakers} AS speakers\n",
    "UNWIND speakers AS speaker\n",
    "MERGE (s:Speaker {serial: speaker.serial})\n",
    "  SET s.name = speaker.name,\n",
    "    s.photo = speaker.photo,\n",
    "    s.url = speaker.url,\n",
    "    s.position = speaker.position,\n",
    "    s.twitter = speaker.twitter,\n",
    "    s.bio = speaker.bio,\n",
    "    s.image = speaker.large_img_url,\n",
    "    s.youtube = speaker.youtube_url\n",
    "\n",
    "WITH s,speaker WHERE speaker.affiliation IS NOT NULL\n",
    "MERGE (org:Organization {name: speaker.affiliation})\n",
    "CREATE UNIQUE (s)-[:AFFILIATED]->(org)\n",
    "'''\n",
    "\n",
    "INSERT_VENUES = '''\n",
    "WITH {venues} AS venues\n",
    "UNWIND venues AS venue\n",
    "MERGE (r:Room {serial: venue.serial})\n",
    "SET r.name = venue.name\n",
    "\n",
    "'''"
   ]
  },
  {
   "cell_type": "code",
   "execution_count": 7,
   "metadata": {
    "collapsed": false
   },
   "outputs": [],
   "source": [
    "# instantiate the driver and create a session\n",
    "driver = GraphDatabase.driver(\"bolt://localhost\", auth=basic_auth(\"neo4j\", \"letmein\"))\n",
    "session = driver.session()"
   ]
  },
  {
   "cell_type": "code",
   "execution_count": 8,
   "metadata": {
    "collapsed": false
   },
   "outputs": [
    {
     "data": {
      "text/plain": [
       "<neo4j.v1.session.StatementResult at 0x10631f128>"
      ]
     },
     "execution_count": 8,
     "metadata": {},
     "output_type": "execute_result"
    }
   ],
   "source": [
    "session.run(INSERT_EVENTS_QUERY, parameters={'events': d['Schedule']['events']})"
   ]
  },
  {
   "cell_type": "code",
   "execution_count": 9,
   "metadata": {
    "collapsed": false
   },
   "outputs": [
    {
     "data": {
      "text/plain": [
       "<neo4j.v1.session.StatementResult at 0x10631f278>"
      ]
     },
     "execution_count": 9,
     "metadata": {},
     "output_type": "execute_result"
    }
   ],
   "source": [
    "session.run(INSERT_SPEAKERS_QUERY, parameters={'speakers': d['Schedule']['speakers']})"
   ]
  },
  {
   "cell_type": "code",
   "execution_count": 10,
   "metadata": {
    "collapsed": false
   },
   "outputs": [
    {
     "data": {
      "text/plain": [
       "<neo4j.v1.session.StatementResult at 0x10631f668>"
      ]
     },
     "execution_count": 10,
     "metadata": {},
     "output_type": "execute_result"
    }
   ],
   "source": [
    "session.run(INSERT_VENUES,parameters={'venues': d['Schedule']['venues']})"
   ]
  },
  {
   "cell_type": "code",
   "execution_count": 11,
   "metadata": {
    "collapsed": true
   },
   "outputs": [],
   "source": [
    "# What organizations in \"The New Stuff\" track have the most speakers?\n",
    "result = session.run('''\n",
    "    MATCH (track:Track {name: \"The New Stuff\"}) \n",
    "    MATCH (track)<-[:PART_OF]-(t:Talk)<-[:PRESENTS]-(s:Speaker)\n",
    "    MATCH (s)-[:AFFILIATED]->(org:Organization)\n",
    "    RETURN org.name AS organization, count(*) AS num \n",
    "    ORDER BY num DESC LIMIT 10\n",
    "''')"
   ]
  },
  {
   "cell_type": "code",
   "execution_count": 12,
   "metadata": {
    "collapsed": false
   },
   "outputs": [
    {
     "name": "stdout",
     "output_type": "stream",
     "text": [
      "Microsoft: 4\n",
      "Secret Lab Pty. Ltd.: 4\n",
      "lonely.coffee: 2\n",
      "Ardan Labs: 2\n",
      "University of Cambridge, UK: 1\n",
      "Docker, Inc: 1\n",
      "WNYC Radio: 1\n",
      "Etsy: 1\n",
      "Docker: 1\n",
      "Dominant Paradigm Subversion, Inc: 1\n"
     ]
    }
   ],
   "source": [
    "for record in result:\n",
    "    print(\"%s: %s\" % (record['organization'],record['num']))"
   ]
  },
  {
   "cell_type": "code",
   "execution_count": null,
   "metadata": {
    "collapsed": true
   },
   "outputs": [],
   "source": []
  }
 ],
 "metadata": {
  "kernelspec": {
   "display_name": "Python 3",
   "language": "python",
   "name": "python3"
  },
  "language_info": {
   "codemirror_mode": {
    "name": "ipython",
    "version": 3
   },
   "file_extension": ".py",
   "mimetype": "text/x-python",
   "name": "python",
   "nbconvert_exporter": "python",
   "pygments_lexer": "ipython3",
   "version": "3.5.0"
  }
 },
 "nbformat": 4,
 "nbformat_minor": 0
}
